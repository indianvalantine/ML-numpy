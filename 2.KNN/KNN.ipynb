{
 "cells": [
  {
   "cell_type": "code",
   "execution_count": 1,
   "metadata": {
    "collapsed": true
   },
   "outputs": [],
   "source": [
    "import numpy as np\n",
    "import pandas as pd\n",
    "from sklearn.datasets import load_digits,load_iris\n",
    "from sklearn.metrics import accuracy_score\n",
    "from sklearn.model_selection import train_test_split"
   ]
  },
  {
   "cell_type": "code",
   "execution_count": 2,
   "metadata": {
    "collapsed": true
   },
   "outputs": [],
   "source": [
    "# load dataset\n",
    "iris = load_iris()\n",
    "df = pd.DataFrame(iris.data)\n",
    "df['label'] = iris.target"
   ]
  },
  {
   "cell_type": "code",
   "execution_count": 3,
   "metadata": {},
   "outputs": [
    {
     "data": {
      "text/html": [
       "<div>\n",
       "<style>\n",
       "    .dataframe thead tr:only-child th {\n",
       "        text-align: right;\n",
       "    }\n",
       "\n",
       "    .dataframe thead th {\n",
       "        text-align: left;\n",
       "    }\n",
       "\n",
       "    .dataframe tbody tr th {\n",
       "        vertical-align: top;\n",
       "    }\n",
       "</style>\n",
       "<table border=\"1\" class=\"dataframe\">\n",
       "  <thead>\n",
       "    <tr style=\"text-align: right;\">\n",
       "      <th></th>\n",
       "      <th>0</th>\n",
       "      <th>1</th>\n",
       "      <th>2</th>\n",
       "      <th>3</th>\n",
       "      <th>label</th>\n",
       "    </tr>\n",
       "  </thead>\n",
       "  <tbody>\n",
       "    <tr>\n",
       "      <th>0</th>\n",
       "      <td>5.1</td>\n",
       "      <td>3.5</td>\n",
       "      <td>1.4</td>\n",
       "      <td>0.2</td>\n",
       "      <td>0</td>\n",
       "    </tr>\n",
       "    <tr>\n",
       "      <th>1</th>\n",
       "      <td>4.9</td>\n",
       "      <td>3.0</td>\n",
       "      <td>1.4</td>\n",
       "      <td>0.2</td>\n",
       "      <td>0</td>\n",
       "    </tr>\n",
       "    <tr>\n",
       "      <th>2</th>\n",
       "      <td>4.7</td>\n",
       "      <td>3.2</td>\n",
       "      <td>1.3</td>\n",
       "      <td>0.2</td>\n",
       "      <td>0</td>\n",
       "    </tr>\n",
       "    <tr>\n",
       "      <th>3</th>\n",
       "      <td>4.6</td>\n",
       "      <td>3.1</td>\n",
       "      <td>1.5</td>\n",
       "      <td>0.2</td>\n",
       "      <td>0</td>\n",
       "    </tr>\n",
       "    <tr>\n",
       "      <th>4</th>\n",
       "      <td>5.0</td>\n",
       "      <td>3.6</td>\n",
       "      <td>1.4</td>\n",
       "      <td>0.2</td>\n",
       "      <td>0</td>\n",
       "    </tr>\n",
       "  </tbody>\n",
       "</table>\n",
       "</div>"
      ],
      "text/plain": [
       "     0    1    2    3  label\n",
       "0  5.1  3.5  1.4  0.2      0\n",
       "1  4.9  3.0  1.4  0.2      0\n",
       "2  4.7  3.2  1.3  0.2      0\n",
       "3  4.6  3.1  1.5  0.2      0\n",
       "4  5.0  3.6  1.4  0.2      0"
      ]
     },
     "execution_count": 3,
     "metadata": {},
     "output_type": "execute_result"
    }
   ],
   "source": [
    "df.head()"
   ]
  },
  {
   "cell_type": "code",
   "execution_count": 4,
   "metadata": {
    "collapsed": true
   },
   "outputs": [],
   "source": [
    "class KNNClassifier:\n",
    "    def __init__(self,k, X, Y, metric=\"l2\"):\n",
    "        self.k = k if k <= len(X) else len(X)\n",
    "        self.points = X\n",
    "        self.labels = Y\n",
    "        self.metric = metric\n",
    "        \n",
    "    def calc_distance(self,x):\n",
    "        res = self.points - x\n",
    "        if self.metric == \"l1\":\n",
    "            return np.sum(np.abs(res),axis=1)\n",
    "        elif self.metric == \"l2\":\n",
    "            return np.sqrt(np.sum(res**2,axis=1))\n",
    "        elif self.metric == \"infinity\":\n",
    "            return np.max(np.abs(res),axis=1)\n",
    "        else:\n",
    "            raise ValueError(\"Invalid metric method!\")\n",
    "        \n",
    "    def forward(self,x):\n",
    "        distances = self.calc_distance(x)\n",
    "        distances_with_label = np.concatenate((distances.reshape(len(distances),1),self.labels.reshape(len(distances),1)),axis=1)\n",
    "        #get k neighbors by distance\n",
    "        sorted_dists = np.stack(sorted(distances_with_label,key=lambda x:x[0]))\n",
    "        k_labels = sorted_dists[:,1][:self.k]\n",
    "        (labels,counts) = np.unique(k_labels,return_counts=True)\n",
    "        ind=np.argmax(counts)\n",
    "        return labels[ind]\n",
    "        \n",
    "    def predict(self,X):\n",
    "        res = []\n",
    "        for x in X:\n",
    "            y = self.forward(x)\n",
    "            res.append(y)\n",
    "        return res"
   ]
  },
  {
   "cell_type": "code",
   "execution_count": 5,
   "metadata": {
    "scrolled": true
   },
   "outputs": [
    {
     "name": "stdout",
     "output_type": "stream",
     "text": [
      "0.977777777778\n"
     ]
    }
   ],
   "source": [
    "#prepare data\n",
    "X,Y = df.values[:,:-1],df.values[:,-1]\n",
    "train_X,test_X,train_Y,test_Y = train_test_split(X,Y,test_size=0.9,random_state=42)\n",
    "\n",
    "model = KNNClassifier(k=4,X=train_X,Y=train_Y,metric=\"l2\")\n",
    "preds = model.predict(test_X)\n",
    "print(accuracy_score(test_Y,preds))"
   ]
  },
  {
   "cell_type": "code",
   "execution_count": 6,
   "metadata": {},
   "outputs": [
    {
     "data": {
      "text/plain": [
       "array([ 1.,  0.,  2.,  1.,  1.,  0.,  1.,  2.,  1.,  1.,  2.,  0.,  0.,\n",
       "        0.,  0.,  1.,  2.,  1.,  1.,  2.,  0.,  2.,  0.,  2.,  2.,  2.,\n",
       "        2.,  2.,  0.,  0.,  0.,  0.,  1.,  0.,  0.,  2.,  1.,  0.,  0.,\n",
       "        0.,  2.,  1.,  1.,  0.,  0.,  1.,  2.,  2.,  1.,  2.,  1.,  2.,\n",
       "        1.,  0.,  2.,  1.,  0.,  0.,  0.,  1.,  2.,  0.,  0.,  0.,  1.,\n",
       "        0.,  1.,  2.,  0.,  1.,  2.,  0.,  2.,  2.,  1.,  1.,  2.,  1.,\n",
       "        0.,  1.,  2.,  0.,  0.,  1.,  1.,  0.,  2.,  0.,  0.,  1.,  1.,\n",
       "        2.,  1.,  2.,  2.,  1.,  0.,  0.,  2.,  2.,  0.,  0.,  0.,  1.,\n",
       "        2.,  0.,  2.,  2.,  0.,  1.,  1.,  2.,  1.,  2.,  0.,  2.,  1.,\n",
       "        2.,  1.,  1.,  1.,  0.,  1.,  1.,  0.,  1.,  2.,  2.,  0.,  1.,\n",
       "        2.,  2.,  0.,  2.,  0.])"
      ]
     },
     "execution_count": 6,
     "metadata": {},
     "output_type": "execute_result"
    }
   ],
   "source": [
    "test_Y"
   ]
  },
  {
   "cell_type": "code",
   "execution_count": 7,
   "metadata": {},
   "outputs": [
    {
     "data": {
      "text/plain": [
       "array([ 1.,  0.,  2.,  1.,  1.,  0.,  1.,  2.,  1.,  1.,  2.,  0.,  0.,\n",
       "        0.,  0.,  1.,  2.,  1.,  1.,  2.,  0.,  2.,  0.,  2.,  2.,  2.,\n",
       "        2.,  2.,  0.,  0.,  0.,  0.,  1.,  0.,  0.,  2.,  1.,  0.,  0.,\n",
       "        0.,  2.,  1.,  1.,  0.,  0.,  1.,  2.,  2.,  1.,  2.,  1.,  2.,\n",
       "        1.,  0.,  2.,  1.,  0.,  0.,  0.,  1.,  2.,  0.,  0.,  0.,  1.,\n",
       "        0.,  1.,  2.,  0.,  1.,  2.,  0.,  2.,  2.,  1.,  1.,  2.,  1.,\n",
       "        0.,  1.,  2.,  0.,  0.,  1.,  2.,  0.,  2.,  0.,  0.,  2.,  1.,\n",
       "        2.,  2.,  2.,  2.,  1.,  0.,  0.,  2.,  2.,  0.,  0.,  0.,  1.,\n",
       "        2.,  0.,  2.,  2.,  0.,  1.,  1.,  2.,  1.,  2.,  0.,  2.,  1.,\n",
       "        2.,  1.,  1.,  1.,  0.,  1.,  1.,  0.,  1.,  2.,  2.,  0.,  1.,\n",
       "        2.,  2.,  0.,  2.,  0.])"
      ]
     },
     "execution_count": 7,
     "metadata": {},
     "output_type": "execute_result"
    }
   ],
   "source": [
    "np.array(preds)"
   ]
  }
 ],
 "metadata": {
  "kernelspec": {
   "display_name": "Python 3",
   "language": "python",
   "name": "python3"
  },
  "language_info": {
   "codemirror_mode": {
    "name": "ipython",
    "version": 3
   },
   "file_extension": ".py",
   "mimetype": "text/x-python",
   "name": "python",
   "nbconvert_exporter": "python",
   "pygments_lexer": "ipython3",
   "version": "3.6.1"
  }
 },
 "nbformat": 4,
 "nbformat_minor": 2
}
