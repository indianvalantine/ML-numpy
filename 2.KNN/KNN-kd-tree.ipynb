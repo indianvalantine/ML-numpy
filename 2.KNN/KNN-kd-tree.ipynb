{
 "cells": [
  {
   "cell_type": "markdown",
   "metadata": {},
   "source": [
    "### kd tree\n",
    "#### three steps to find k nearest neighbors:\n",
    "- recursive to the nearest leaf node\n",
    "- compare and add to neighbor list\n",
    "- calc the distance between hypersphere and hyperrectangle to know if need to the subling nodes\n",
    "\n",
    "### need to do:\n",
    "- fix low performance error on some complicate datasets"
   ]
  },
  {
   "cell_type": "code",
   "execution_count": 1,
   "metadata": {
    "collapsed": true
   },
   "outputs": [],
   "source": [
    "import numpy as np\n",
    "import pandas as pd\n",
    "from sklearn.datasets import load_iris\n",
    "from sklearn.metrics import accuracy_score\n",
    "from sklearn.model_selection import train_test_split"
   ]
  },
  {
   "cell_type": "code",
   "execution_count": 2,
   "metadata": {
    "collapsed": true
   },
   "outputs": [],
   "source": [
    "# load dataset\n",
    "iris = load_iris()\n",
    "df = pd.DataFrame(iris.data)\n",
    "df['label'] = iris.target"
   ]
  },
  {
   "cell_type": "code",
   "execution_count": 3,
   "metadata": {},
   "outputs": [
    {
     "data": {
      "text/html": [
       "<div>\n",
       "<style>\n",
       "    .dataframe thead tr:only-child th {\n",
       "        text-align: right;\n",
       "    }\n",
       "\n",
       "    .dataframe thead th {\n",
       "        text-align: left;\n",
       "    }\n",
       "\n",
       "    .dataframe tbody tr th {\n",
       "        vertical-align: top;\n",
       "    }\n",
       "</style>\n",
       "<table border=\"1\" class=\"dataframe\">\n",
       "  <thead>\n",
       "    <tr style=\"text-align: right;\">\n",
       "      <th></th>\n",
       "      <th>0</th>\n",
       "      <th>1</th>\n",
       "      <th>2</th>\n",
       "      <th>3</th>\n",
       "      <th>label</th>\n",
       "    </tr>\n",
       "  </thead>\n",
       "  <tbody>\n",
       "    <tr>\n",
       "      <th>0</th>\n",
       "      <td>5.1</td>\n",
       "      <td>3.5</td>\n",
       "      <td>1.4</td>\n",
       "      <td>0.2</td>\n",
       "      <td>0</td>\n",
       "    </tr>\n",
       "    <tr>\n",
       "      <th>1</th>\n",
       "      <td>4.9</td>\n",
       "      <td>3.0</td>\n",
       "      <td>1.4</td>\n",
       "      <td>0.2</td>\n",
       "      <td>0</td>\n",
       "    </tr>\n",
       "    <tr>\n",
       "      <th>2</th>\n",
       "      <td>4.7</td>\n",
       "      <td>3.2</td>\n",
       "      <td>1.3</td>\n",
       "      <td>0.2</td>\n",
       "      <td>0</td>\n",
       "    </tr>\n",
       "    <tr>\n",
       "      <th>3</th>\n",
       "      <td>4.6</td>\n",
       "      <td>3.1</td>\n",
       "      <td>1.5</td>\n",
       "      <td>0.2</td>\n",
       "      <td>0</td>\n",
       "    </tr>\n",
       "    <tr>\n",
       "      <th>4</th>\n",
       "      <td>5.0</td>\n",
       "      <td>3.6</td>\n",
       "      <td>1.4</td>\n",
       "      <td>0.2</td>\n",
       "      <td>0</td>\n",
       "    </tr>\n",
       "  </tbody>\n",
       "</table>\n",
       "</div>"
      ],
      "text/plain": [
       "     0    1    2    3  label\n",
       "0  5.1  3.5  1.4  0.2      0\n",
       "1  4.9  3.0  1.4  0.2      0\n",
       "2  4.7  3.2  1.3  0.2      0\n",
       "3  4.6  3.1  1.5  0.2      0\n",
       "4  5.0  3.6  1.4  0.2      0"
      ]
     },
     "execution_count": 3,
     "metadata": {},
     "output_type": "execute_result"
    }
   ],
   "source": [
    "df.head()"
   ]
  },
  {
   "cell_type": "markdown",
   "metadata": {},
   "source": [
    "### kd tree implementation"
   ]
  },
  {
   "cell_type": "code",
   "execution_count": 4,
   "metadata": {},
   "outputs": [],
   "source": [
    "class KDNode:\n",
    "    def __init__(self,axis=None,val=None,label=None,left=None,right=None):\n",
    "        self.axis = axis\n",
    "        self.val = val\n",
    "        self.label = label\n",
    "        self.left = left\n",
    "        self.right = right\n",
    "    \n",
    "class KDTree:\n",
    "    def __init__(self,X,Y):\n",
    "        data = np.concatenate((X,np.array(Y).reshape(len(Y),1)),axis=1)\n",
    "        self.root = self.build_tree(data,depth=0)\n",
    "    \n",
    "    def build_tree(self,data,depth):\n",
    "        if len(data) == 0:return None\n",
    "        data_num,feature_dim = len(data),len(data[0])-1 #label dim\n",
    "        axis = depth % feature_dim\n",
    "\n",
    "        # get median node\n",
    "        sorted_data = sorted(data,key=lambda x:x[axis])\n",
    "        median_index = data_num // 2\n",
    "        median_node = sorted_data[median_index]\n",
    "        node = KDNode(axis,median_node[:-1],median_node[-1])\n",
    "        node.left = self.build_tree(sorted_data[:median_index],depth+1)\n",
    "        node.right = self.build_tree(sorted_data[median_index+1:],depth+1)\n",
    "        return node\n",
    "    \n",
    "    def get_KNN_labels(self,x,count=1):\n",
    "        # save all nearest nodes: dist,node\n",
    "        nearest = [[-1,None] for _ in range(count)]\n",
    "        self.nearest = np.array(nearest)\n",
    "        self.recursive_find(x,self.root)\n",
    "        nearest_labels = [node.label for dist,node in self.nearest]\n",
    "        \n",
    "        (labels,counts) = np.unique(nearest_labels,return_counts=True)\n",
    "        ind=np.argmax(counts)\n",
    "        return labels[ind]\n",
    "\n",
    "    def recursive_find(self,x,node):\n",
    "        if node is None:\n",
    "            return\n",
    "        # find nearest leaf node\n",
    "        axis = node.axis\n",
    "        if x[axis] < node.val[axis]:\n",
    "            self.recursive_find(x,node.left)\n",
    "        else:\n",
    "            self.recursive_find(x,node.right)\n",
    "        \n",
    "        # find the leaf node, backtrack and calc distance ,only use l2 distance\n",
    "        dist = np.sqrt(np.sum((np.array(x)-np.array(node.val))**2))\n",
    "        \n",
    "        # if not have enough nearest nodes\n",
    "        distances = [dist for dist,node in self.nearest]\n",
    "        if -1 in distances:\n",
    "            for i,d in enumerate(self.nearest):\n",
    "                if d[0] == -1:\n",
    "                    self.nearest[i] = [dist,node]\n",
    "                    # resort to compare distance with hyperrectangle\n",
    "                    self.nearest = sorted(self.nearest,key=lambda x:-x[0])\n",
    "                    break\n",
    "\n",
    "        # replace the biggest distance in nearest list when it have <count> values\n",
    "        else:\n",
    "            self.nearest = sorted(self.nearest,key=lambda x:-x[0])\n",
    "            if self.nearest[0][0] > dist:\n",
    "                self.nearest[0] = [dist,node]\n",
    "        \n",
    "        #if compare subling nodes by the distance of hyperplane\n",
    "        \n",
    "        # have union set between the hypersphere and the hyperrectangle\n",
    "        if self.nearest[0][0] > abs(x[axis] - node.val[axis]):\n",
    "            if x[axis] - node.val[axis] < 0:\n",
    "                self.recursive_find(x,node.left)\n",
    "            else:\n",
    "                self.recursive_find(x,node.right)"
   ]
  },
  {
   "cell_type": "code",
   "execution_count": 5,
   "metadata": {
    "scrolled": true
   },
   "outputs": [
    {
     "name": "stdout",
     "output_type": "stream",
     "text": [
      "ACC score:0.9629629629629629,cost time [0.09417414665222168]s\n"
     ]
    }
   ],
   "source": [
    "#prepare data\n",
    "X,Y = df.values[:,:-1],df.values[:,-1]\n",
    "train_X,test_X,train_Y,test_Y = train_test_split(X,Y,test_size=0.9,random_state=42)\n",
    "\n",
    "import time\n",
    "\n",
    "stime = time.time()\n",
    "model = KDTree(train_X,train_Y)\n",
    "\n",
    "preds = []\n",
    "for instance in test_X:\n",
    "    label = model.get_KNN_labels(instance,count=3)\n",
    "    preds.append(label)\n",
    "    \n",
    "etime = time.time()\n",
    "print(\"ACC score:{},cost time [{}]s\".format(accuracy_score(test_Y,preds),etime-stime))"
   ]
  },
  {
   "cell_type": "code",
   "execution_count": 6,
   "metadata": {},
   "outputs": [
    {
     "data": {
      "text/plain": [
       "array([ 1.,  0.,  2.,  1.,  1.,  0.,  1.,  2.,  1.,  1.,  2.,  0.,  0.,\n",
       "        0.,  0.,  1.,  2.,  1.,  1.,  2.,  0.,  2.,  0.,  2.,  2.,  2.,\n",
       "        2.,  2.,  0.,  0.,  0.,  0.,  1.,  0.,  0.,  2.,  1.,  0.,  0.,\n",
       "        0.,  2.,  1.,  1.,  0.,  0.,  1.,  2.,  2.,  1.,  2.,  1.,  2.,\n",
       "        1.,  0.,  2.,  1.,  0.,  0.,  0.,  1.,  2.,  0.,  0.,  0.,  1.,\n",
       "        0.,  1.,  2.,  0.,  1.,  2.,  0.,  2.,  2.,  1.,  1.,  2.,  1.,\n",
       "        0.,  1.,  2.,  0.,  0.,  1.,  1.,  0.,  2.,  0.,  0.,  1.,  1.,\n",
       "        2.,  1.,  2.,  2.,  1.,  0.,  0.,  2.,  2.,  0.,  0.,  0.,  1.,\n",
       "        2.,  0.,  2.,  2.,  0.,  1.,  1.,  2.,  1.,  2.,  0.,  2.,  1.,\n",
       "        2.,  1.,  1.,  1.,  0.,  1.,  1.,  0.,  1.,  2.,  2.,  0.,  1.,\n",
       "        2.,  2.,  0.,  2.,  0.])"
      ]
     },
     "execution_count": 6,
     "metadata": {},
     "output_type": "execute_result"
    }
   ],
   "source": [
    "test_Y"
   ]
  },
  {
   "cell_type": "code",
   "execution_count": 7,
   "metadata": {},
   "outputs": [
    {
     "data": {
      "text/plain": [
       "array([ 1.,  0.,  2.,  1.,  1.,  0.,  1.,  2.,  1.,  1.,  2.,  0.,  0.,\n",
       "        0.,  0.,  1.,  2.,  1.,  1.,  2.,  0.,  2.,  0.,  2.,  2.,  2.,\n",
       "        2.,  2.,  0.,  0.,  0.,  0.,  1.,  0.,  0.,  2.,  1.,  0.,  0.,\n",
       "        0.,  2.,  2.,  1.,  0.,  0.,  1.,  2.,  2.,  1.,  2.,  1.,  2.,\n",
       "        1.,  0.,  2.,  1.,  0.,  0.,  0.,  1.,  2.,  0.,  0.,  0.,  1.,\n",
       "        0.,  1.,  2.,  0.,  1.,  2.,  0.,  2.,  2.,  1.,  1.,  2.,  1.,\n",
       "        0.,  1.,  2.,  0.,  0.,  1.,  1.,  0.,  2.,  0.,  0.,  2.,  1.,\n",
       "        2.,  2.,  2.,  2.,  1.,  0.,  0.,  2.,  2.,  0.,  0.,  0.,  1.,\n",
       "        2.,  0.,  2.,  2.,  0.,  1.,  1.,  1.,  1.,  2.,  0.,  2.,  1.,\n",
       "        2.,  1.,  1.,  1.,  1.,  1.,  1.,  0.,  1.,  2.,  2.,  0.,  1.,\n",
       "        2.,  2.,  0.,  2.,  0.])"
      ]
     },
     "execution_count": 7,
     "metadata": {},
     "output_type": "execute_result"
    }
   ],
   "source": [
    "np.array(preds)"
   ]
  }
 ],
 "metadata": {
  "kernelspec": {
   "display_name": "Python 3",
   "language": "python",
   "name": "python3"
  },
  "language_info": {
   "codemirror_mode": {
    "name": "ipython",
    "version": 3
   },
   "file_extension": ".py",
   "mimetype": "text/x-python",
   "name": "python",
   "nbconvert_exporter": "python",
   "pygments_lexer": "ipython3",
   "version": "3.6.1"
  }
 },
 "nbformat": 4,
 "nbformat_minor": 2
}
