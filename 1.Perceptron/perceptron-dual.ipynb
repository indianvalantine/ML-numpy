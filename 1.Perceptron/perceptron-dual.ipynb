{
 "cells": [
  {
   "cell_type": "markdown",
   "metadata": {},
   "source": [
    "#### Loss function:\n",
    "$\\min_{w, b} L(w, b)=-\\sum_{x_{i} \\in M} y_{i}\\left(\\sum_{j=1}^{N}\\alpha_j y_j x_j \\cdot x_{i}+b\\right)$，$M$：error point set\n",
    "\n",
    "#### SGD update function：\n",
    "$a_i = a_i + \\eta$\n",
    "\n",
    "$b = b + \\eta y_{i}$"
   ]
  },
  {
   "cell_type": "code",
   "execution_count": 1,
   "metadata": {
    "collapsed": true
   },
   "outputs": [],
   "source": [
    "import numpy as np\n",
    "import pandas as pd\n",
    "from sklearn.datasets import load_iris\n",
    "from sklearn.metrics import accuracy_score\n",
    "from sklearn.model_selection import train_test_split\n",
    "import matplotlib.pyplot as plt\n",
    "%matplotlib inline"
   ]
  },
  {
   "cell_type": "code",
   "execution_count": 2,
   "metadata": {
    "collapsed": true
   },
   "outputs": [],
   "source": [
    "# load dataset\n",
    "iris = load_iris()\n",
    "df = pd.DataFrame(iris.data,columns=iris.feature_names)\n",
    "df['label'] = iris.target\n",
    "\n",
    "#binary classification\n",
    "df = df[:100]\n",
    "df.loc[df['label']==0,'label']=-1"
   ]
  },
  {
   "cell_type": "code",
   "execution_count": 3,
   "metadata": {},
   "outputs": [
    {
     "data": {
      "text/html": [
       "<div>\n",
       "<style>\n",
       "    .dataframe thead tr:only-child th {\n",
       "        text-align: right;\n",
       "    }\n",
       "\n",
       "    .dataframe thead th {\n",
       "        text-align: left;\n",
       "    }\n",
       "\n",
       "    .dataframe tbody tr th {\n",
       "        vertical-align: top;\n",
       "    }\n",
       "</style>\n",
       "<table border=\"1\" class=\"dataframe\">\n",
       "  <thead>\n",
       "    <tr style=\"text-align: right;\">\n",
       "      <th></th>\n",
       "      <th>sepal length (cm)</th>\n",
       "      <th>sepal width (cm)</th>\n",
       "      <th>petal length (cm)</th>\n",
       "      <th>petal width (cm)</th>\n",
       "      <th>label</th>\n",
       "    </tr>\n",
       "  </thead>\n",
       "  <tbody>\n",
       "    <tr>\n",
       "      <th>0</th>\n",
       "      <td>5.1</td>\n",
       "      <td>3.5</td>\n",
       "      <td>1.4</td>\n",
       "      <td>0.2</td>\n",
       "      <td>-1</td>\n",
       "    </tr>\n",
       "    <tr>\n",
       "      <th>1</th>\n",
       "      <td>4.9</td>\n",
       "      <td>3.0</td>\n",
       "      <td>1.4</td>\n",
       "      <td>0.2</td>\n",
       "      <td>-1</td>\n",
       "    </tr>\n",
       "    <tr>\n",
       "      <th>2</th>\n",
       "      <td>4.7</td>\n",
       "      <td>3.2</td>\n",
       "      <td>1.3</td>\n",
       "      <td>0.2</td>\n",
       "      <td>-1</td>\n",
       "    </tr>\n",
       "    <tr>\n",
       "      <th>3</th>\n",
       "      <td>4.6</td>\n",
       "      <td>3.1</td>\n",
       "      <td>1.5</td>\n",
       "      <td>0.2</td>\n",
       "      <td>-1</td>\n",
       "    </tr>\n",
       "    <tr>\n",
       "      <th>4</th>\n",
       "      <td>5.0</td>\n",
       "      <td>3.6</td>\n",
       "      <td>1.4</td>\n",
       "      <td>0.2</td>\n",
       "      <td>-1</td>\n",
       "    </tr>\n",
       "  </tbody>\n",
       "</table>\n",
       "</div>"
      ],
      "text/plain": [
       "   sepal length (cm)  sepal width (cm)  petal length (cm)  petal width (cm)  \\\n",
       "0                5.1               3.5                1.4               0.2   \n",
       "1                4.9               3.0                1.4               0.2   \n",
       "2                4.7               3.2                1.3               0.2   \n",
       "3                4.6               3.1                1.5               0.2   \n",
       "4                5.0               3.6                1.4               0.2   \n",
       "\n",
       "   label  \n",
       "0     -1  \n",
       "1     -1  \n",
       "2     -1  \n",
       "3     -1  \n",
       "4     -1  "
      ]
     },
     "execution_count": 3,
     "metadata": {},
     "output_type": "execute_result"
    }
   ],
   "source": [
    "df.head()"
   ]
  },
  {
   "cell_type": "code",
   "execution_count": 4,
   "metadata": {
    "collapsed": true
   },
   "outputs": [],
   "source": [
    "class Perceptron:\n",
    "    def __init__(self,n_samples,lr=0.1,epochs=1):\n",
    "        self.alpha = np.ones(n_samples,dtype=np.float32)\n",
    "        self.b = 0\n",
    "        self.lr = lr\n",
    "        self.epochs = epochs\n",
    "        \n",
    "    def calc_Gram(self,X):\n",
    "        n_samples = X.shape[0]\n",
    "        self.Gram = np.zeros((n_samples,n_samples))\n",
    "        for i in range(n_samples):\n",
    "            for j in range(n_samples):\n",
    "                self.Gram[i][j] = np.sum(X[i].dot(X[j]))\n",
    "        \n",
    "    def forward(self,i,Y):\n",
    "        res = self.b\n",
    "        for j in range(len(self.Gram)):\n",
    "            res += self.alpha[j]*Y[j]*self.Gram[i][j]\n",
    "        return res\n",
    "    \n",
    "    def backward(self,i,y):\n",
    "        self.alpha[i] += self.lr\n",
    "        self.b += self.lr * y\n",
    "    \n",
    "    def fit(self,X,Y):\n",
    "        self.calc_Gram(X)\n",
    "        for epoch in range(self.epochs):\n",
    "            error_cnt = 0\n",
    "            for i in range(len(X)):\n",
    "                if Y[i]*self.forward(i,Y)<=0:\n",
    "                    self.backward(i,Y[i])\n",
    "                    error_cnt += 1\n",
    "            if error_cnt == 0:\n",
    "                print(\"Early Stopping ...\")\n",
    "                break\n",
    "    \n",
    "    #cannot use Gram matrix for predict new instances\n",
    "    def generate_w(self,X,Y):\n",
    "        self.w = np.zeros(X.shape[1],dtype=np.float32)\n",
    "        for i in range(len(X)):\n",
    "            self.w += self.alpha[i]*Y[i]*X[i]\n",
    "            \n",
    "    \n",
    "    def predict(self,X,classes=[0,1]):\n",
    "        res = []\n",
    "        for x in X:\n",
    "            pred = self.w.dot(x)+self.b\n",
    "            y = classes[0] if pred >0  else classes[1]\n",
    "            res.append(y)\n",
    "        return res"
   ]
  },
  {
   "cell_type": "code",
   "execution_count": 5,
   "metadata": {
    "scrolled": false
   },
   "outputs": [],
   "source": [
    "#prepare data\n",
    "X,Y = df.values[:,:-1],df.values[:,-1]\n",
    "train_X,test_X,train_Y,test_Y = train_test_split(X,Y,test_size=0.9)\n",
    "\n",
    "#usually need a bigger learning rate than normal perceptron model\n",
    "model = Perceptron(train_X.shape[0],lr=1.2)\n",
    "model.fit(train_X,train_Y)\n",
    "model.generate_w(train_X,train_Y)"
   ]
  },
  {
   "cell_type": "code",
   "execution_count": 6,
   "metadata": {},
   "outputs": [
    {
     "name": "stdout",
     "output_type": "stream",
     "text": [
      "Model Parameters: w: [ -4.63999891  -9.13999939  11.84000111   5.42000103]\n",
      "Model Parameters: b: 2.4\n"
     ]
    }
   ],
   "source": [
    "print(\"Model Parameters: w:\",model.w)\n",
    "print(\"Model Parameters: b:\",model.b)"
   ]
  },
  {
   "cell_type": "code",
   "execution_count": 7,
   "metadata": {},
   "outputs": [
    {
     "name": "stdout",
     "output_type": "stream",
     "text": [
      "0.966666666667\n"
     ]
    }
   ],
   "source": [
    "preds = model.predict(test_X,classes=[1,-1])\n",
    "print(accuracy_score(test_Y,preds))"
   ]
  },
  {
   "cell_type": "code",
   "execution_count": 8,
   "metadata": {},
   "outputs": [
    {
     "data": {
      "text/plain": [
       "array([ 1.,  1., -1., -1., -1.,  1.,  1., -1., -1., -1.,  1., -1.,  1.,\n",
       "       -1.,  1.,  1., -1., -1.,  1.,  1., -1., -1., -1., -1.,  1.,  1.,\n",
       "       -1., -1.,  1.,  1.,  1., -1., -1.,  1.,  1.,  1., -1.,  1.,  1.,\n",
       "       -1., -1., -1.,  1., -1.,  1.,  1.,  1.,  1.,  1.,  1., -1., -1.,\n",
       "       -1., -1., -1.,  1., -1.,  1., -1.,  1.,  1.,  1., -1.,  1., -1.,\n",
       "        1.,  1.,  1.,  1., -1., -1.,  1., -1., -1., -1.,  1., -1.,  1.,\n",
       "        1., -1., -1., -1.,  1.,  1.,  1., -1., -1.,  1.,  1.,  1.])"
      ]
     },
     "execution_count": 8,
     "metadata": {},
     "output_type": "execute_result"
    }
   ],
   "source": [
    "test_Y"
   ]
  },
  {
   "cell_type": "code",
   "execution_count": 9,
   "metadata": {},
   "outputs": [
    {
     "data": {
      "text/plain": [
       "array([ 1,  1, -1, -1, -1,  1,  1, -1, -1, -1,  1, -1,  1, -1,  1,  1, -1,\n",
       "       -1,  1,  1, -1, -1, -1, -1,  1,  1, -1, -1, -1,  1,  1, -1, -1,  1,\n",
       "        1,  1, -1,  1,  1, -1, -1, -1,  1, -1, -1,  1,  1,  1,  1, -1, -1,\n",
       "       -1, -1, -1, -1,  1, -1,  1, -1,  1,  1,  1, -1,  1, -1,  1,  1,  1,\n",
       "        1, -1, -1,  1, -1, -1, -1,  1, -1,  1,  1, -1, -1, -1,  1,  1,  1,\n",
       "       -1, -1,  1,  1,  1])"
      ]
     },
     "execution_count": 9,
     "metadata": {},
     "output_type": "execute_result"
    }
   ],
   "source": [
    "np.array(preds)"
   ]
  }
 ],
 "metadata": {
  "kernelspec": {
   "display_name": "Python 3",
   "language": "python",
   "name": "python3"
  },
  "language_info": {
   "codemirror_mode": {
    "name": "ipython",
    "version": 3
   },
   "file_extension": ".py",
   "mimetype": "text/x-python",
   "name": "python",
   "nbconvert_exporter": "python",
   "pygments_lexer": "ipython3",
   "version": "3.6.1"
  }
 },
 "nbformat": 4,
 "nbformat_minor": 2
}
