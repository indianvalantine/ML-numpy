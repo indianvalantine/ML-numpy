{
 "cells": [
  {
   "cell_type": "markdown",
   "metadata": {},
   "source": [
    "#### 数据集对标签的经验熵\n",
    "$H(D)=-\\sum_{k=1}^{K}\\frac{|C_k|}{|D|}log_2 \\frac{|C_k|}{|D|}$\n",
    "\n",
    "#### 条件熵\n",
    "即先根据A的值$D_i$划分子数据集，然后验证划分后的标签的熵值，之后对这些子数据集加权求和，权重为该类值$D_i$在数据集D中的个数,$c_{ik}$为子数据集$D_i$中对标签$k\\in K$的熵\n",
    "$H(D|A)= \\sum_{i=1}^n \\frac{|D_i|}{|D|}H(D_i) = -\\sum_{i=1}^{n}\\frac{|D_i|}{|D|}\\sum_{n=1}^{K}\\frac{|C_{ik}|}{|D_i|}log_2 \\frac{|C_{ik}|}{|D_i|}$\n",
    "\n",
    "#### 信息增益$g(D,A)$： \n",
    "即未获得特征A相关信息的原始熵值$H(D)$减去添加了A特征后新的熵值$H(D|A)$\n",
    "\n",
    "#### 信息增益比：\n",
    "$g_R(D,A) = \\frac{$g(D,A)}{H_A(D)}$\n",
    "其中$H_A(D)$为数据集中特征A的熵，与标签无关，用来平衡信息增益优先选择类别较多的特征的问题。"
   ]
  },
  {
   "cell_type": "code",
   "execution_count": 1,
   "metadata": {
    "collapsed": true
   },
   "outputs": [],
   "source": [
    "import numpy as np\n",
    "import pandas as pd\n",
    "from sklearn.datasets import load_digits\n",
    "from sklearn.metrics import accuracy_score\n",
    "from sklearn.model_selection import train_test_split"
   ]
  },
  {
   "cell_type": "code",
   "execution_count": 2,
   "metadata": {},
   "outputs": [],
   "source": [
    "# load dataset\n",
    "def create_data():\n",
    "    datasets = [['青年', '否', '否', '一般', '否'],\n",
    "               ['青年', '否', '否', '好', '否'],\n",
    "               ['青年', '是', '否', '好', '是'],\n",
    "               ['青年', '是', '是', '一般', '是'],\n",
    "               ['青年', '否', '否', '一般', '否'],\n",
    "               ['中年', '否', '否', '一般', '否'],\n",
    "               ['中年', '否', '否', '好', '否'],\n",
    "               ['中年', '是', '是', '好', '是'],\n",
    "               ['中年', '否', '是', '非常好', '是'],\n",
    "               ['中年', '否', '是', '非常好', '是'],\n",
    "               ['老年', '否', '是', '非常好', '是'],\n",
    "               ['老年', '否', '是', '好', '是'],\n",
    "               ['老年', '是', '否', '好', '是'],\n",
    "               ['老年', '是', '否', '非常好', '是'],\n",
    "               ['老年', '否', '否', '一般', '否'],\n",
    "               ]\n",
    "    labels = [u'年龄', u'有工作', u'有自己的房子', u'信贷情况', 'label']\n",
    "    # 返回数据集和每个维度的名称\n",
    "    return datasets, labels\n",
    "\n",
    "dataset,cols = create_data()\n",
    "df = pd.DataFrame(dataset,columns=cols)"
   ]
  },
  {
   "cell_type": "code",
   "execution_count": 3,
   "metadata": {
    "scrolled": false
   },
   "outputs": [
    {
     "data": {
      "text/html": [
       "<div>\n",
       "<style>\n",
       "    .dataframe thead tr:only-child th {\n",
       "        text-align: right;\n",
       "    }\n",
       "\n",
       "    .dataframe thead th {\n",
       "        text-align: left;\n",
       "    }\n",
       "\n",
       "    .dataframe tbody tr th {\n",
       "        vertical-align: top;\n",
       "    }\n",
       "</style>\n",
       "<table border=\"1\" class=\"dataframe\">\n",
       "  <thead>\n",
       "    <tr style=\"text-align: right;\">\n",
       "      <th></th>\n",
       "      <th>年龄</th>\n",
       "      <th>有工作</th>\n",
       "      <th>有自己的房子</th>\n",
       "      <th>信贷情况</th>\n",
       "      <th>label</th>\n",
       "    </tr>\n",
       "  </thead>\n",
       "  <tbody>\n",
       "    <tr>\n",
       "      <th>0</th>\n",
       "      <td>青年</td>\n",
       "      <td>否</td>\n",
       "      <td>否</td>\n",
       "      <td>一般</td>\n",
       "      <td>否</td>\n",
       "    </tr>\n",
       "    <tr>\n",
       "      <th>1</th>\n",
       "      <td>青年</td>\n",
       "      <td>否</td>\n",
       "      <td>否</td>\n",
       "      <td>好</td>\n",
       "      <td>否</td>\n",
       "    </tr>\n",
       "    <tr>\n",
       "      <th>2</th>\n",
       "      <td>青年</td>\n",
       "      <td>是</td>\n",
       "      <td>否</td>\n",
       "      <td>好</td>\n",
       "      <td>是</td>\n",
       "    </tr>\n",
       "    <tr>\n",
       "      <th>3</th>\n",
       "      <td>青年</td>\n",
       "      <td>是</td>\n",
       "      <td>是</td>\n",
       "      <td>一般</td>\n",
       "      <td>是</td>\n",
       "    </tr>\n",
       "    <tr>\n",
       "      <th>4</th>\n",
       "      <td>青年</td>\n",
       "      <td>否</td>\n",
       "      <td>否</td>\n",
       "      <td>一般</td>\n",
       "      <td>否</td>\n",
       "    </tr>\n",
       "  </tbody>\n",
       "</table>\n",
       "</div>"
      ],
      "text/plain": [
       "   年龄 有工作 有自己的房子 信贷情况 label\n",
       "0  青年   否      否   一般     否\n",
       "1  青年   否      否    好     否\n",
       "2  青年   是      否    好     是\n",
       "3  青年   是      是   一般     是\n",
       "4  青年   否      否   一般     否"
      ]
     },
     "execution_count": 3,
     "metadata": {},
     "output_type": "execute_result"
    }
   ],
   "source": [
    "df.head()"
   ]
  },
  {
   "cell_type": "code",
   "execution_count": 4,
   "metadata": {
    "collapsed": true
   },
   "outputs": [],
   "source": [
    "class TreeNode:\n",
    "    def __init__(self,feature_name=None,label=None,is_leaf=False,instances=None):\n",
    "        \n",
    "        self.childs = {}   #存储当前特征的unique值对应的子树的链接\n",
    "        self.feature_name = feature_name  #当前选用的特征\n",
    "        \n",
    "        self.label = label   \n",
    "        self.is_leaf = is_leaf     # 是否叶子节点\n",
    "        self.instances = instances #在叶子节点存储对应的实体，便于后续的剪枝操作计算熵\n",
    "        \n",
    "    def add_child(self,val,node):\n",
    "        self.childs[val] = node"
   ]
  },
  {
   "cell_type": "code",
   "execution_count": 6,
   "metadata": {},
   "outputs": [],
   "source": [
    "class DecisionTree:\n",
    "    def __init__(self, method=\"id3\",epsilon=0.1,alpha=1.0):\n",
    "        if method != \"id3\" and method != \"c4.5\":raise ValueError(\"Invalid Decision Tree method!\")\n",
    "        \n",
    "        self.alpha = alpha\n",
    "        self.method = method\n",
    "        self.epsilon = epsilon\n",
    "        \n",
    "    def entropy(self,series):\n",
    "        count = series.groupby(series).count()\n",
    "        count /= count.sum()\n",
    "        probs = np.array(count)\n",
    "        return -np.sum(probs*np.log2(probs))\n",
    "    \n",
    "    def conditional_entropy(self,data):\n",
    "        \n",
    "        # 每个特征的值分布的权重 |Di|/D\n",
    "        feature_value_cnt = data.iloc[:,0].groupby(data.iloc[:,0]).count()\n",
    "        feature_value_weight = feature_value_cnt/feature_value_cnt.sum()\n",
    "        \n",
    "        # 对该特征，同样值筛选出来的子数据集中标签的熵，即该特征值的筛选对标签的熵有没有降低作用\n",
    "        H_D_i = data.groupby(data.iloc[:,0]).apply(lambda x:self.entropy(x['label']))\n",
    "        return np.sum(feature_value_weight * H_D_i)\n",
    "    \n",
    "    def info_gain(self,data):\n",
    "        H_D = self.entropy(data['label'])\n",
    "        H_D_given_X = self.conditional_entropy(data)\n",
    "        g_D_A = H_D - H_D_given_X\n",
    "        if self.method == \"c4.5\":\n",
    "            H_A_D = self.entropy(data.iloc[:,0])\n",
    "            g_D_A /= H_A_D\n",
    "        return g_D_A\n",
    "    \n",
    "    def calc_info_gain(self,data,features=None):\n",
    "        max_feature,max_gain = None,0\n",
    "        for feature_name in features:\n",
    "            gain = self.info_gain(data[[feature_name,'label']])\n",
    "            print(\"gain:{}  feture:{}\".format(gain,feature_name))\n",
    "            if gain > max_gain:\n",
    "                max_feature = feature_name\n",
    "                max_gain = gain\n",
    "        return max_feature,max_gain\n",
    "    \n",
    "    def create_tree(self,data,features):\n",
    "        \n",
    "        labels = data['label']\n",
    "        \n",
    "        # base case: no other features \n",
    "        if len(features) == 0:\n",
    "            label = labels.value_counts().sort_values(ascending=False).index[0]\n",
    "            return TreeNode(label=label,is_leaf=True,instances=data)\n",
    "        \n",
    "        # base case: one class\n",
    "        if len(np.unique(labels)) == 1:\n",
    "            return TreeNode(label=list(labels)[0],is_leaf=True,instances=data)\n",
    "        \n",
    "        print(\"New layer construction ...\")\n",
    "        #calc info gain by features\n",
    "        feature_name,max_gain = self.calc_info_gain(data,features=features)\n",
    "        \n",
    "        # pre prune\n",
    "        if max_gain < self.epsilon:\n",
    "            label = labels.value_counts().sort_values(ascending=False).index[0]\n",
    "            return TreeNode(label=label,is_leaf=True,instances=data)\n",
    "        \n",
    "\n",
    "        node = TreeNode(feature_name=feature_name,is_leaf=False)\n",
    "        #递归调用，根据特征值的不同划分数据集并构造子树\n",
    "        features -= set([feature_name])\n",
    "        unique_vals = data[feature_name].unique()\n",
    "        for val in unique_vals:\n",
    "            sub_data = data.loc[data[feature_name]==val]\n",
    "            sub_tree = self.create_tree(sub_data,features)\n",
    "            node.add_child(val,sub_tree)\n",
    "        \n",
    "        return node\n",
    "    \n",
    "    def fit(self,data):\n",
    "        self.columns = set(data.iloc[:,:-1].columns)\n",
    "        self.tree = self.create_tree(data,self.columns)\n",
    "        \n",
    "    def predict(self,data):\n",
    "        node = self.tree\n",
    "        while node.is_leaf == False:\n",
    "            val = data[node.feature_name][0]\n",
    "            print(\"compared feature:{}\\ninstance value:{}\".format(node.feature_name,val))\n",
    "            node = node.childs[val]\n",
    "        return node.label"
   ]
  },
  {
   "cell_type": "code",
   "execution_count": 7,
   "metadata": {
    "scrolled": true
   },
   "outputs": [
    {
     "name": "stdout",
     "output_type": "stream",
     "text": [
      "New layer construction ...\n",
      "gain:0.4199730940219749  feture:有自己的房子\n",
      "gain:0.36298956253708536  feture:信贷情况\n",
      "gain:0.32365019815155627  feture:有工作\n",
      "gain:0.08300749985576883  feture:年龄\n",
      "New layer construction ...\n",
      "gain:0.47385138961004514  feture:信贷情况\n",
      "gain:0.9182958340544896  feture:有工作\n",
      "gain:0.2516291673878229  feture:年龄\n"
     ]
    }
   ],
   "source": [
    "model = DecisionTree(method='id3',epsilon=0.05,alpha=1)\n",
    "model.fit(df)"
   ]
  },
  {
   "cell_type": "code",
   "execution_count": 8,
   "metadata": {
    "scrolled": true
   },
   "outputs": [
    {
     "name": "stdout",
     "output_type": "stream",
     "text": [
      "Layer 1 feature name: 有自己的房子\n",
      "Layer 2 feature name: 有工作\n"
     ]
    }
   ],
   "source": [
    "print(\"Layer 1 feature name:\",model.tree.feature_name)\n",
    "print(\"Layer 2 feature name:\",model.tree.childs['否'].feature_name)"
   ]
  },
  {
   "cell_type": "code",
   "execution_count": 9,
   "metadata": {
    "scrolled": false
   },
   "outputs": [
    {
     "name": "stdout",
     "output_type": "stream",
     "text": [
      "compared feature:有自己的房子\n",
      "instance value:否\n",
      "compared feature:有工作\n",
      "instance value:否\n"
     ]
    },
    {
     "data": {
      "text/plain": [
       "'否'"
      ]
     },
     "execution_count": 9,
     "metadata": {},
     "output_type": "execute_result"
    }
   ],
   "source": [
    "test = pd.DataFrame(columns=[u'年龄', u'有工作', u'有自己的房子', u'信贷情况'])\n",
    "test.loc[0] = ['老年', '否', '否', '一般']\n",
    "\n",
    "model.predict(test)"
   ]
  }
 ],
 "metadata": {
  "kernelspec": {
   "display_name": "Python 3",
   "language": "python",
   "name": "python3"
  },
  "language_info": {
   "codemirror_mode": {
    "name": "ipython",
    "version": 3
   },
   "file_extension": ".py",
   "mimetype": "text/x-python",
   "name": "python",
   "nbconvert_exporter": "python",
   "pygments_lexer": "ipython3",
   "version": "3.6.1"
  }
 },
 "nbformat": 4,
 "nbformat_minor": 2
}
