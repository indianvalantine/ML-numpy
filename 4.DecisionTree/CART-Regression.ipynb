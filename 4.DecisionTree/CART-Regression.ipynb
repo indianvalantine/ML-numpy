{
 "cells": [
  {
   "cell_type": "markdown",
   "metadata": {},
   "source": [
    "#### 特征评价方式：平方误差最小化\n",
    "$L = min \\sum_{k=1}^{K}(y_k-f(x_k))^2$\n",
    "\n",
    "具体地，对每一个特征j，遍历其可以取的值s，以能最小化下面这个公式的$(j,s)$对作为划分\n",
    "\n",
    "$min_{j,s}\\{ min_{c_1}\\sum_{x_i\\in R_1(j,s)}(y_i-c_1)^2+min_{c_2}\\sum_{x_i\\in R_2(j,s)}(y_i-c_2)^2 \\}$\n",
    "\n",
    "其中$R_1(j,s)$与$R_2(j,s)$是根据j和s对空间的划分，两个空间样本的均值$c_1$和$c_2$作为该空间的输出值。"
   ]
  },
  {
   "cell_type": "code",
   "execution_count": 1,
   "metadata": {
    "collapsed": true
   },
   "outputs": [],
   "source": [
    "import numpy as np\n",
    "import pandas as pd\n",
    "from sklearn.metrics import accuracy_score\n",
    "from sklearn.model_selection import train_test_split"
   ]
  },
  {
   "cell_type": "code",
   "execution_count": 2,
   "metadata": {
    "collapsed": true
   },
   "outputs": [],
   "source": [
    "# load dataset\n",
    "def create_data():\n",
    "    datasets = [[1,4.5],\n",
    "                [2,4.75],\n",
    "                [3,4.91],\n",
    "                [4,5.34],\n",
    "                [5,5.80],\n",
    "                [6,7.05],\n",
    "                [7,7.90],\n",
    "                [8,8.23],\n",
    "                [9,8.70],\n",
    "                [10,9.0]\n",
    "               ]\n",
    "    labels = ['x', 'label']\n",
    "    # 返回数据集和每个维度的名称\n",
    "    return datasets, labels\n",
    "\n",
    "dataset,cols = create_data()\n",
    "df = pd.DataFrame(dataset,columns=cols)"
   ]
  },
  {
   "cell_type": "code",
   "execution_count": 3,
   "metadata": {
    "scrolled": true
   },
   "outputs": [
    {
     "data": {
      "text/html": [
       "<div>\n",
       "<style>\n",
       "    .dataframe thead tr:only-child th {\n",
       "        text-align: right;\n",
       "    }\n",
       "\n",
       "    .dataframe thead th {\n",
       "        text-align: left;\n",
       "    }\n",
       "\n",
       "    .dataframe tbody tr th {\n",
       "        vertical-align: top;\n",
       "    }\n",
       "</style>\n",
       "<table border=\"1\" class=\"dataframe\">\n",
       "  <thead>\n",
       "    <tr style=\"text-align: right;\">\n",
       "      <th></th>\n",
       "      <th>x</th>\n",
       "      <th>label</th>\n",
       "    </tr>\n",
       "  </thead>\n",
       "  <tbody>\n",
       "    <tr>\n",
       "      <th>0</th>\n",
       "      <td>1</td>\n",
       "      <td>4.50</td>\n",
       "    </tr>\n",
       "    <tr>\n",
       "      <th>1</th>\n",
       "      <td>2</td>\n",
       "      <td>4.75</td>\n",
       "    </tr>\n",
       "    <tr>\n",
       "      <th>2</th>\n",
       "      <td>3</td>\n",
       "      <td>4.91</td>\n",
       "    </tr>\n",
       "    <tr>\n",
       "      <th>3</th>\n",
       "      <td>4</td>\n",
       "      <td>5.34</td>\n",
       "    </tr>\n",
       "    <tr>\n",
       "      <th>4</th>\n",
       "      <td>5</td>\n",
       "      <td>5.80</td>\n",
       "    </tr>\n",
       "  </tbody>\n",
       "</table>\n",
       "</div>"
      ],
      "text/plain": [
       "   x  label\n",
       "0  1   4.50\n",
       "1  2   4.75\n",
       "2  3   4.91\n",
       "3  4   5.34\n",
       "4  5   5.80"
      ]
     },
     "execution_count": 3,
     "metadata": {},
     "output_type": "execute_result"
    }
   ],
   "source": [
    "df.head()"
   ]
  },
  {
   "cell_type": "code",
   "execution_count": 4,
   "metadata": {},
   "outputs": [],
   "source": [
    "region_1 = df[df.iloc[:,0]<=3]['label']"
   ]
  },
  {
   "cell_type": "code",
   "execution_count": 5,
   "metadata": {},
   "outputs": [
    {
     "data": {
      "text/plain": [
       "0    4.50\n",
       "1    4.75\n",
       "2    4.91\n",
       "Name: label, dtype: float64"
      ]
     },
     "execution_count": 5,
     "metadata": {},
     "output_type": "execute_result"
    }
   ],
   "source": [
    "region_1"
   ]
  },
  {
   "cell_type": "code",
   "execution_count": 6,
   "metadata": {
    "collapsed": true
   },
   "outputs": [],
   "source": [
    "class TreeNode:\n",
    "    def __init__(self,feature_name=None,seperate_val=-1,label=None,is_leaf=False,instances=None):\n",
    "        \n",
    "        self.feature_name = feature_name  #当前选用的特征\n",
    "        self.seperate_val = seperate_val  # 当前特征的切分点\n",
    "        \n",
    "        #非叶子节点的左右子树\n",
    "        self.left = None\n",
    "        self.right = None\n",
    "        \n",
    "        self.label = label   \n",
    "        self.is_leaf = is_leaf     # 是否叶子节点\n",
    "        self.instances = instances #在叶子节点存储对应的实体，便于后续的剪枝操作计算熵\n",
    "        \n",
    "    def add_child(self,val,node):\n",
    "        self.childs[val] = node"
   ]
  },
  {
   "cell_type": "code",
   "execution_count": 7,
   "metadata": {
    "collapsed": true
   },
   "outputs": [],
   "source": [
    "class DecisionTree:\n",
    "    def __init__(self):\n",
    "        print(\"Init CART model\")\n",
    "        \n",
    "    def MSE_loss(self,data,val):\n",
    "        region_1 = data.loc[data.iloc[:,0]<=val]['label']\n",
    "        region_2 = data.loc[data.iloc[:,0]>val]['label']\n",
    "        mse_loss = ((region_1 - region_1.mean())**2).sum() + ((region_2 - region_2.mean())**2).sum()\n",
    "        \n",
    "        return mse_loss\n",
    "    \n",
    "    def calc_loss(self,data,features=None):\n",
    "        min_feature,min_mse_loss = None,10000\n",
    "        best_seperate_val = -1\n",
    "        for feature_name in features:\n",
    "            for seperate_val in data[feature_name].unique():\n",
    "                mse_loss = self.MSE_loss(data[[feature_name,'label']],seperate_val)\n",
    "                if mse_loss < min_mse_loss:\n",
    "                    min_feature = feature_name\n",
    "                    best_seperate_val = seperate_val\n",
    "                    min_mse_loss = mse_loss\n",
    "        return min_feature,best_seperate_val\n",
    "    \n",
    "    def create_tree(self,data,features):\n",
    "        \n",
    "        labels = data['label']\n",
    "        \n",
    "        # base case: no other features \n",
    "        if len(features) == 0:\n",
    "            return TreeNode(label=labels.mean(),is_leaf=True,instances=data)\n",
    "        \n",
    "        # base case: one class\n",
    "        if len(np.unique(labels)) == 1:\n",
    "            return TreeNode(label=labels.mean(),is_leaf=True,instances=data)\n",
    "        \n",
    "        #calc info gain by features\n",
    "        feature_name,seperate_val = self.calc_loss(data,features=features)\n",
    "    \n",
    "        node = TreeNode(feature_name=feature_name,seperate_val=seperate_val,is_leaf=False)\n",
    "        \n",
    "        region1 = data.loc[data[feature_name]<=seperate_val]\n",
    "        node.left = self.create_tree(region1,features)\n",
    "        \n",
    "        region2 = data.loc[data[feature_name]>seperate_val]\n",
    "        node.right = self.create_tree(region2,features)\n",
    "        \n",
    "        return node\n",
    "    \n",
    "    def fit(self,data):\n",
    "        self.columns = set(data.iloc[:,:-1].columns)\n",
    "        self.tree = self.create_tree(data,self.columns)\n",
    "        \n",
    "    def printTree(self,node,layer=0):\n",
    "        print(\"{}layer: {}, feature:{}, seperate value:{}\".format('\\t'*layer,layer,node.feature_name,node.seperate_val))\n",
    "        \n",
    "        if node.left.is_leaf:\n",
    "            print(\"{}Leaf Node,val={}\".format('\\t'*layer,node.left.label))\n",
    "        else:\n",
    "            print(\"{}partition node,feature:{}\".format('\\t'*layer,node.left.feature_name))\n",
    "            self.printTree(node.left,layer+1)\n",
    "            \n",
    "        if node.right.is_leaf:\n",
    "            print(\"{}Leaf Node,val={}\".format('\\t'*layer,node.right.label))\n",
    "        else:\n",
    "            print(\"{}partition node,feature:{}\".format('\\t'*layer,node.right.feature_name))\n",
    "            self.printTree(node.right,layer+1)"
   ]
  },
  {
   "cell_type": "code",
   "execution_count": 8,
   "metadata": {
    "scrolled": true
   },
   "outputs": [
    {
     "name": "stdout",
     "output_type": "stream",
     "text": [
      "Init CART model\n"
     ]
    }
   ],
   "source": [
    "model = DecisionTree()\n",
    "model.fit(df)"
   ]
  },
  {
   "cell_type": "code",
   "execution_count": 9,
   "metadata": {
    "scrolled": true
   },
   "outputs": [
    {
     "name": "stdout",
     "output_type": "stream",
     "text": [
      "layer: 0, feature:x, seperate value:5\n",
      "partition node,feature:x\n",
      "\tlayer: 1, feature:x, seperate value:3\n",
      "\tpartition node,feature:x\n",
      "\t\tlayer: 2, feature:x, seperate value:1\n",
      "\t\tLeaf Node,val=4.5\n",
      "\t\tpartition node,feature:x\n",
      "\t\t\tlayer: 3, feature:x, seperate value:2\n",
      "\t\t\tLeaf Node,val=4.75\n",
      "\t\t\tLeaf Node,val=4.91\n",
      "\tpartition node,feature:x\n",
      "\t\tlayer: 2, feature:x, seperate value:4\n",
      "\t\tLeaf Node,val=5.34\n",
      "\t\tLeaf Node,val=5.8\n",
      "partition node,feature:x\n",
      "\tlayer: 1, feature:x, seperate value:7\n",
      "\tpartition node,feature:x\n",
      "\t\tlayer: 2, feature:x, seperate value:6\n",
      "\t\tLeaf Node,val=7.05\n",
      "\t\tLeaf Node,val=7.9\n",
      "\tpartition node,feature:x\n",
      "\t\tlayer: 2, feature:x, seperate value:8\n",
      "\t\tLeaf Node,val=8.23\n",
      "\t\tpartition node,feature:x\n",
      "\t\t\tlayer: 3, feature:x, seperate value:9\n",
      "\t\t\tLeaf Node,val=8.7\n",
      "\t\t\tLeaf Node,val=9.0\n"
     ]
    }
   ],
   "source": [
    "model.printTree(model.tree)"
   ]
  }
 ],
 "metadata": {
  "kernelspec": {
   "display_name": "Python 3",
   "language": "python",
   "name": "python3"
  },
  "language_info": {
   "codemirror_mode": {
    "name": "ipython",
    "version": 3
   },
   "file_extension": ".py",
   "mimetype": "text/x-python",
   "name": "python",
   "nbconvert_exporter": "python",
   "pygments_lexer": "ipython3",
   "version": "3.6.1"
  }
 },
 "nbformat": 4,
 "nbformat_minor": 2
}
