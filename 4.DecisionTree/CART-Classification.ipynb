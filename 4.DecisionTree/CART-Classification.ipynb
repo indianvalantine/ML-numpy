{
 "cells": [
  {
   "cell_type": "markdown",
   "metadata": {},
   "source": [
    "#### 特征评价方式：gini index\n",
    "$Gini_p = \\sum_{k=1}^{K}p_k(1-p_k) = 1 - \\sum_{k=1}^{K}p_k^2$\n",
    "\n",
    "具体地，对每一个特征j，遍历其可以取的值s，最小化基尼系数"
   ]
  },
  {
   "cell_type": "code",
   "execution_count": 1,
   "metadata": {
    "collapsed": true
   },
   "outputs": [],
   "source": [
    "import numpy as np\n",
    "import pandas as pd\n",
    "from sklearn.metrics import accuracy_score\n",
    "from sklearn.model_selection import train_test_split"
   ]
  },
  {
   "cell_type": "code",
   "execution_count": 2,
   "metadata": {
    "collapsed": true
   },
   "outputs": [],
   "source": [
    "# load dataset\n",
    "def create_data():\n",
    "    datasets = [['青年', '否', '否', '一般', '否'],\n",
    "               ['青年', '否', '否', '好', '否'],\n",
    "               ['青年', '是', '否', '好', '是'],\n",
    "               ['青年', '是', '是', '一般', '是'],\n",
    "               ['青年', '否', '否', '一般', '否'],\n",
    "               ['中年', '否', '否', '一般', '否'],\n",
    "               ['中年', '否', '否', '好', '否'],\n",
    "               ['中年', '是', '是', '好', '是'],\n",
    "               ['中年', '否', '是', '非常好', '是'],\n",
    "               ['中年', '否', '是', '非常好', '是'],\n",
    "               ['老年', '否', '是', '非常好', '是'],\n",
    "               ['老年', '否', '是', '好', '是'],\n",
    "               ['老年', '是', '否', '好', '是'],\n",
    "               ['老年', '是', '否', '非常好', '是'],\n",
    "               ['老年', '否', '否', '一般', '否'],\n",
    "               ]\n",
    "    labels = [u'年龄', u'有工作', u'有自己的房子', u'信贷情况', 'label']\n",
    "    # 返回数据集和每个维度的名称\n",
    "    return datasets, labels\n",
    "\n",
    "dataset,cols = create_data()\n",
    "df = pd.DataFrame(dataset,columns=cols)"
   ]
  },
  {
   "cell_type": "code",
   "execution_count": 3,
   "metadata": {
    "scrolled": true
   },
   "outputs": [
    {
     "data": {
      "text/html": [
       "<div>\n",
       "<style>\n",
       "    .dataframe thead tr:only-child th {\n",
       "        text-align: right;\n",
       "    }\n",
       "\n",
       "    .dataframe thead th {\n",
       "        text-align: left;\n",
       "    }\n",
       "\n",
       "    .dataframe tbody tr th {\n",
       "        vertical-align: top;\n",
       "    }\n",
       "</style>\n",
       "<table border=\"1\" class=\"dataframe\">\n",
       "  <thead>\n",
       "    <tr style=\"text-align: right;\">\n",
       "      <th></th>\n",
       "      <th>年龄</th>\n",
       "      <th>有工作</th>\n",
       "      <th>有自己的房子</th>\n",
       "      <th>信贷情况</th>\n",
       "      <th>label</th>\n",
       "    </tr>\n",
       "  </thead>\n",
       "  <tbody>\n",
       "    <tr>\n",
       "      <th>0</th>\n",
       "      <td>青年</td>\n",
       "      <td>否</td>\n",
       "      <td>否</td>\n",
       "      <td>一般</td>\n",
       "      <td>否</td>\n",
       "    </tr>\n",
       "    <tr>\n",
       "      <th>1</th>\n",
       "      <td>青年</td>\n",
       "      <td>否</td>\n",
       "      <td>否</td>\n",
       "      <td>好</td>\n",
       "      <td>否</td>\n",
       "    </tr>\n",
       "    <tr>\n",
       "      <th>2</th>\n",
       "      <td>青年</td>\n",
       "      <td>是</td>\n",
       "      <td>否</td>\n",
       "      <td>好</td>\n",
       "      <td>是</td>\n",
       "    </tr>\n",
       "    <tr>\n",
       "      <th>3</th>\n",
       "      <td>青年</td>\n",
       "      <td>是</td>\n",
       "      <td>是</td>\n",
       "      <td>一般</td>\n",
       "      <td>是</td>\n",
       "    </tr>\n",
       "    <tr>\n",
       "      <th>4</th>\n",
       "      <td>青年</td>\n",
       "      <td>否</td>\n",
       "      <td>否</td>\n",
       "      <td>一般</td>\n",
       "      <td>否</td>\n",
       "    </tr>\n",
       "  </tbody>\n",
       "</table>\n",
       "</div>"
      ],
      "text/plain": [
       "   年龄 有工作 有自己的房子 信贷情况 label\n",
       "0  青年   否      否   一般     否\n",
       "1  青年   否      否    好     否\n",
       "2  青年   是      否    好     是\n",
       "3  青年   是      是   一般     是\n",
       "4  青年   否      否   一般     否"
      ]
     },
     "execution_count": 3,
     "metadata": {},
     "output_type": "execute_result"
    }
   ],
   "source": [
    "df.head()"
   ]
  },
  {
   "cell_type": "code",
   "execution_count": 6,
   "metadata": {
    "collapsed": true
   },
   "outputs": [],
   "source": [
    "region_1 = df[df.iloc[:,0]=='青年']['label']"
   ]
  },
  {
   "cell_type": "code",
   "execution_count": 14,
   "metadata": {},
   "outputs": [
    {
     "data": {
      "text/plain": [
       "array([ 0.6,  0.4])"
      ]
     },
     "execution_count": 14,
     "metadata": {},
     "output_type": "execute_result"
    }
   ],
   "source": [
    "(region_1.groupby(region_1).count()/len(region_1)).values"
   ]
  },
  {
   "cell_type": "code",
   "execution_count": 15,
   "metadata": {
    "collapsed": true
   },
   "outputs": [],
   "source": [
    "class TreeNode:\n",
    "    def __init__(self,feature_name=None,seperate_val=-1,label=None,is_leaf=False,instances=None):\n",
    "        \n",
    "        self.feature_name = feature_name  #当前选用的特征\n",
    "        self.seperate_val = seperate_val  # 当前特征的切分点\n",
    "        \n",
    "        #非叶子节点的左右子树\n",
    "        self.left = None\n",
    "        self.right = None\n",
    "        \n",
    "        self.label = label   \n",
    "        self.is_leaf = is_leaf     # 是否叶子节点\n",
    "        self.instances = instances #在叶子节点存储对应的实体，便于后续的剪枝操作计算熵\n",
    "        \n",
    "    def add_child(self,val,node):\n",
    "        self.childs[val] = node"
   ]
  },
  {
   "cell_type": "code",
   "execution_count": 18,
   "metadata": {
    "collapsed": true
   },
   "outputs": [],
   "source": [
    "class DecisionTree:\n",
    "    def __init__(self):\n",
    "        print(\"Init CART model\")\n",
    "        \n",
    "    def GINI_index(self,data,val):\n",
    "        region_1 = data.loc[data.iloc[:,0]==val]['label']\n",
    "        region_2 = data.loc[data.iloc[:,0]!=val]['label']\n",
    "        \n",
    "        #划分区域后分别求基尼系数再加权\n",
    "        prob_1 = (region_1.groupby(region_1).count()/len(region_1)).values\n",
    "        gini_1 = 1 - np.sum(prob_1**2)\n",
    "        \n",
    "        prob_2 = (region_2.groupby(region_2).count()/len(region_2)).values\n",
    "        gini_2 = 1 - np.sum(prob_2**2)\n",
    "        \n",
    "        gini_loss = len(region_1)/len(data)*gini_1 + len(region_2)/len(data)*gini_2\n",
    "        \n",
    "        return gini_loss\n",
    "    \n",
    "    def calc_loss(self,data,features=None):\n",
    "        min_feature,min_gini_loss = None,10000\n",
    "        best_seperate_val = -1\n",
    "        for feature_name in features:\n",
    "            for seperate_val in data[feature_name].unique():\n",
    "                gini_loss = self.GINI_index(data[[feature_name,'label']],seperate_val)\n",
    "                if gini_loss < min_gini_loss:\n",
    "                    min_feature = feature_name\n",
    "                    best_seperate_val = seperate_val\n",
    "                    min_gini_loss = gini_loss\n",
    "        return min_feature,best_seperate_val\n",
    "    \n",
    "    def create_tree(self,data,features):\n",
    "        \n",
    "        labels = data['label']\n",
    "        \n",
    "        # base case: no other features \n",
    "        if len(features) == 0:\n",
    "            label = labels.value_counts().sort_values(ascending=False).index[0]\n",
    "            return TreeNode(label=label,is_leaf=True,instances=data)\n",
    "        \n",
    "        # base case: one class\n",
    "        if len(np.unique(labels)) == 1:\n",
    "            return TreeNode(label=list(labels)[0],is_leaf=True,instances=data)\n",
    "        \n",
    "        #calc info gain by features\n",
    "        feature_name,seperate_val = self.calc_loss(data,features=features)\n",
    "    \n",
    "        node = TreeNode(feature_name=feature_name,seperate_val=seperate_val,is_leaf=False)\n",
    "        \n",
    "        region1 = data.loc[data[feature_name]<=seperate_val]\n",
    "        node.left = self.create_tree(region1,features)\n",
    "        \n",
    "        region2 = data.loc[data[feature_name]>seperate_val]\n",
    "        node.right = self.create_tree(region2,features)\n",
    "        \n",
    "        return node\n",
    "    \n",
    "    def fit(self,data):\n",
    "        self.columns = set(data.iloc[:,:-1].columns)\n",
    "        self.tree = self.create_tree(data,self.columns)\n",
    "        \n",
    "    def printTree(self,node,layer=0):\n",
    "        print(\"{}layer: {}, feature:{}, seperate value:{}\".format('\\t'*layer,layer,node.feature_name,node.seperate_val))\n",
    "        \n",
    "        if node.left.is_leaf:\n",
    "            print(\"{}Leaf Node,val={}\".format('\\t'*layer,node.left.label))\n",
    "        else:\n",
    "            print(\"{}partition node,feature:{}\".format('\\t'*layer,node.left.feature_name))\n",
    "            self.printTree(node.left,layer+1)\n",
    "            \n",
    "        if node.right.is_leaf:\n",
    "            print(\"{}Leaf Node,val={}\".format('\\t'*layer,node.right.label))\n",
    "        else:\n",
    "            print(\"{}partition node,feature:{}\".format('\\t'*layer,node.right.feature_name))\n",
    "            self.printTree(node.right,layer+1)"
   ]
  },
  {
   "cell_type": "code",
   "execution_count": 19,
   "metadata": {
    "scrolled": true
   },
   "outputs": [
    {
     "name": "stdout",
     "output_type": "stream",
     "text": [
      "Init CART model\n"
     ]
    }
   ],
   "source": [
    "model = DecisionTree()\n",
    "model.fit(df)"
   ]
  },
  {
   "cell_type": "code",
   "execution_count": 20,
   "metadata": {
    "scrolled": true
   },
   "outputs": [
    {
     "name": "stdout",
     "output_type": "stream",
     "text": [
      "layer: 0, feature:有自己的房子, seperate value:否\n",
      "partition node,feature:有工作\n",
      "\tlayer: 1, feature:有工作, seperate value:否\n",
      "\tLeaf Node,val=否\n",
      "\tLeaf Node,val=是\n",
      "Leaf Node,val=是\n"
     ]
    }
   ],
   "source": [
    "model.printTree(model.tree)"
   ]
  }
 ],
 "metadata": {
  "kernelspec": {
   "display_name": "Python 3",
   "language": "python",
   "name": "python3"
  },
  "language_info": {
   "codemirror_mode": {
    "name": "ipython",
    "version": 3
   },
   "file_extension": ".py",
   "mimetype": "text/x-python",
   "name": "python",
   "nbconvert_exporter": "python",
   "pygments_lexer": "ipython3",
   "version": "3.6.1"
  }
 },
 "nbformat": 4,
 "nbformat_minor": 2
}
